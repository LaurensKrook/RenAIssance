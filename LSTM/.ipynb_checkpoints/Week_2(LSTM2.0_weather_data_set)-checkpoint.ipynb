{
 "cells": [
  {
   "cell_type": "code",
   "execution_count": 5,
   "id": "cognitive-survivor",
   "metadata": {},
   "outputs": [],
   "source": [
    "import numpy\n",
    "import matplotlib.pyplot as plt\n",
    "import pandas\n",
    "import math\n",
    "from keras.models import Sequential\n",
    "from keras.layers import Dense\n",
    "from keras.layers import LSTM\n",
    "from sklearn.preprocessing import MinMaxScaler\n",
    "from sklearn.metrics import mean_squared_error\n",
    "\n",
    "import pandas as pd\n",
    "import numpy as np\n",
    "from statsmodels.tsa.seasonal import seasonal_decompose"
   ]
  },
  {
   "cell_type": "code",
   "execution_count": 6,
   "id": "nervous-column",
   "metadata": {},
   "outputs": [],
   "source": [
    "# fix random seed for reproducibility\n",
    "numpy.random.seed(7)"
   ]
  },
  {
   "cell_type": "code",
   "execution_count": 7,
   "id": "special-coupon",
   "metadata": {},
   "outputs": [
    {
     "data": {
      "text/html": [
       "<div>\n",
       "<style scoped>\n",
       "    .dataframe tbody tr th:only-of-type {\n",
       "        vertical-align: middle;\n",
       "    }\n",
       "\n",
       "    .dataframe tbody tr th {\n",
       "        vertical-align: top;\n",
       "    }\n",
       "\n",
       "    .dataframe thead th {\n",
       "        text-align: right;\n",
       "    }\n",
       "</style>\n",
       "<table border=\"1\" class=\"dataframe\">\n",
       "  <thead>\n",
       "    <tr style=\"text-align: right;\">\n",
       "      <th></th>\n",
       "      <th>T</th>\n",
       "    </tr>\n",
       "    <tr>\n",
       "      <th>YYYYMMDD</th>\n",
       "      <th></th>\n",
       "    </tr>\n",
       "  </thead>\n",
       "  <tbody>\n",
       "    <tr>\n",
       "      <th>2018-08-01</th>\n",
       "      <td>124</td>\n",
       "    </tr>\n",
       "    <tr>\n",
       "      <th>2018-08-01</th>\n",
       "      <td>116</td>\n",
       "    </tr>\n",
       "    <tr>\n",
       "      <th>2018-08-01</th>\n",
       "      <td>133</td>\n",
       "    </tr>\n",
       "    <tr>\n",
       "      <th>2018-08-01</th>\n",
       "      <td>153</td>\n",
       "    </tr>\n",
       "    <tr>\n",
       "      <th>2018-08-01</th>\n",
       "      <td>187</td>\n",
       "    </tr>\n",
       "    <tr>\n",
       "      <th>...</th>\n",
       "      <td>...</td>\n",
       "    </tr>\n",
       "    <tr>\n",
       "      <th>2020-08-31</th>\n",
       "      <td>138</td>\n",
       "    </tr>\n",
       "    <tr>\n",
       "      <th>2020-08-31</th>\n",
       "      <td>129</td>\n",
       "    </tr>\n",
       "    <tr>\n",
       "      <th>2020-08-31</th>\n",
       "      <td>124</td>\n",
       "    </tr>\n",
       "    <tr>\n",
       "      <th>2020-08-31</th>\n",
       "      <td>112</td>\n",
       "    </tr>\n",
       "    <tr>\n",
       "      <th>2020-08-31</th>\n",
       "      <td>97</td>\n",
       "    </tr>\n",
       "  </tbody>\n",
       "</table>\n",
       "<p>18286 rows × 1 columns</p>\n",
       "</div>"
      ],
      "text/plain": [
       "                T\n",
       "YYYYMMDD         \n",
       "2018-08-01    124\n",
       "2018-08-01    116\n",
       "2018-08-01    133\n",
       "2018-08-01    153\n",
       "2018-08-01    187\n",
       "...           ...\n",
       "2020-08-31    138\n",
       "2020-08-31    129\n",
       "2020-08-31    124\n",
       "2020-08-31    112\n",
       "2020-08-31     97\n",
       "\n",
       "[18286 rows x 1 columns]"
      ]
     },
     "execution_count": 7,
     "metadata": {},
     "output_type": "execute_result"
    }
   ],
   "source": [
    "dfw = pd.read_csv(r'/home/alihan/Desktop/Leren & Beslissen/General/Data(LLE)/Data/Weather/weather_data.csv')\n",
    "dfw.drop(dfw.columns[[0, 1, 4, 5, 6, 7, 9, 10, 15, 16, 17,\n",
    "                    19, 20, 21, 22, 23, 24, 25]], axis = 1, inplace = True)\n",
    "dfw['YYYYMMDD'] = pd.to_datetime(dfw['YYYYMMDD'], format='%Y%m%d')\n",
    "dfw = dfw.iloc[2:]\n",
    "dfw.drop(dfw.columns[[1,3,4,5,6,7]], axis = 1, inplace = True)\n",
    "df = dfw\n",
    "df.set_index('YYYYMMDD',inplace=True)\n",
    "df.index=pd.to_datetime(df.index)\n",
    "df"
   ]
  },
  {
   "cell_type": "code",
   "execution_count": 10,
   "id": "flexible-sierra",
   "metadata": {},
   "outputs": [],
   "source": [
    "# load the dataset\n",
    "dataframe = df\n",
    "dataset = dataframe.values\n",
    "dataset = dataset.astype('float32')"
   ]
  },
  {
   "cell_type": "code",
   "execution_count": 12,
   "id": "scheduled-fairy",
   "metadata": {},
   "outputs": [
    {
     "data": {
      "text/plain": [
       "array([[124.],\n",
       "       [116.],\n",
       "       [133.],\n",
       "       ...,\n",
       "       [124.],\n",
       "       [112.],\n",
       "       [ 97.]], dtype=float32)"
      ]
     },
     "execution_count": 12,
     "metadata": {},
     "output_type": "execute_result"
    }
   ],
   "source": [
    "dataset"
   ]
  },
  {
   "cell_type": "code",
   "execution_count": 13,
   "id": "heated-brunei",
   "metadata": {},
   "outputs": [],
   "source": [
    "# normalize the dataset\n",
    "scaler = MinMaxScaler(feature_range=(0, 1))\n",
    "dataset = scaler.fit_transform(dataset)"
   ]
  },
  {
   "cell_type": "code",
   "execution_count": 14,
   "id": "anticipated-toyota",
   "metadata": {},
   "outputs": [
    {
     "data": {
      "text/plain": [
       "array([[0.4416136 ],\n",
       "       [0.42462847],\n",
       "       [0.46072188],\n",
       "       ...,\n",
       "       [0.4416136 ],\n",
       "       [0.4161359 ],\n",
       "       [0.38428876]], dtype=float32)"
      ]
     },
     "execution_count": 14,
     "metadata": {},
     "output_type": "execute_result"
    }
   ],
   "source": [
    "dataset"
   ]
  },
  {
   "cell_type": "code",
   "execution_count": 17,
   "id": "acoustic-trustee",
   "metadata": {},
   "outputs": [
    {
     "name": "stdout",
     "output_type": "stream",
     "text": [
      "12251 6035\n"
     ]
    }
   ],
   "source": [
    "# split into train and test sets\n",
    "train_size = int(len(dataset) * 0.67)\n",
    "test_size = len(dataset) - train_size\n",
    "train, test = dataset[0:train_size,:], dataset[train_size:len(dataset),:]\n",
    "print(len(train), len(test))"
   ]
  },
  {
   "cell_type": "code",
   "execution_count": 18,
   "id": "widespread-differential",
   "metadata": {},
   "outputs": [],
   "source": [
    "# convert an array of values into a dataset matrix\n",
    "def create_dataset(dataset, look_back=1):\n",
    "    dataX, dataY = [], []\n",
    "    for i in range(len(dataset)-look_back-1):\n",
    "        a = dataset[i:(i+look_back), 0]\n",
    "        dataX.append(a)\n",
    "        dataY.append(dataset[i + look_back, 0])\n",
    "    return numpy.array(dataX), numpy.array(dataY)"
   ]
  },
  {
   "cell_type": "code",
   "execution_count": 19,
   "id": "realistic-overview",
   "metadata": {},
   "outputs": [],
   "source": [
    "# reshape into X=t and Y=t+1\n",
    "look_back = 1\n",
    "trainX, trainY = create_dataset(train, look_back)\n",
    "testX, testY = create_dataset(test, look_back)"
   ]
  },
  {
   "cell_type": "code",
   "execution_count": 21,
   "id": "unable-chest",
   "metadata": {},
   "outputs": [],
   "source": [
    "# reshape input to be [samples, time steps, features]\n",
    "trainX = numpy.reshape(trainX, (trainX.shape[0], 1, trainX.shape[1]))\n",
    "testX = numpy.reshape(testX, (testX.shape[0], 1, testX.shape[1]))"
   ]
  },
  {
   "cell_type": "code",
   "execution_count": 22,
   "id": "planned-performance",
   "metadata": {},
   "outputs": [
    {
     "name": "stdout",
     "output_type": "stream",
     "text": [
      "Epoch 1/100\n",
      "12249/12249 - 9s - loss: 0.0067 - 9s/epoch - 730us/step\n",
      "Epoch 2/100\n",
      "12249/12249 - 10s - loss: 6.0006e-04 - 10s/epoch - 809us/step\n",
      "Epoch 3/100\n",
      "12249/12249 - 11s - loss: 5.9804e-04 - 11s/epoch - 906us/step\n",
      "Epoch 4/100\n",
      "12249/12249 - 11s - loss: 5.9437e-04 - 11s/epoch - 889us/step\n",
      "Epoch 5/100\n",
      "12249/12249 - 11s - loss: 5.9204e-04 - 11s/epoch - 888us/step\n",
      "Epoch 6/100\n",
      "12249/12249 - 11s - loss: 5.9163e-04 - 11s/epoch - 892us/step\n",
      "Epoch 7/100\n",
      "12249/12249 - 11s - loss: 5.8926e-04 - 11s/epoch - 898us/step\n",
      "Epoch 8/100\n",
      "12249/12249 - 11s - loss: 5.9218e-04 - 11s/epoch - 898us/step\n",
      "Epoch 9/100\n",
      "12249/12249 - 11s - loss: 5.8824e-04 - 11s/epoch - 896us/step\n",
      "Epoch 10/100\n",
      "12249/12249 - 11s - loss: 5.8911e-04 - 11s/epoch - 901us/step\n",
      "Epoch 11/100\n",
      "12249/12249 - 11s - loss: 5.8812e-04 - 11s/epoch - 897us/step\n",
      "Epoch 12/100\n",
      "12249/12249 - 11s - loss: 5.8706e-04 - 11s/epoch - 902us/step\n",
      "Epoch 13/100\n",
      "12249/12249 - 11s - loss: 5.8979e-04 - 11s/epoch - 896us/step\n",
      "Epoch 14/100\n",
      "12249/12249 - 11s - loss: 5.8975e-04 - 11s/epoch - 896us/step\n",
      "Epoch 15/100\n",
      "12249/12249 - 11s - loss: 5.8478e-04 - 11s/epoch - 890us/step\n",
      "Epoch 16/100\n",
      "12249/12249 - 12s - loss: 5.8983e-04 - 12s/epoch - 1ms/step\n",
      "Epoch 17/100\n",
      "12249/12249 - 11s - loss: 5.9113e-04 - 11s/epoch - 890us/step\n",
      "Epoch 18/100\n",
      "12249/12249 - 11s - loss: 5.9104e-04 - 11s/epoch - 896us/step\n",
      "Epoch 19/100\n",
      "12249/12249 - 11s - loss: 5.8717e-04 - 11s/epoch - 886us/step\n",
      "Epoch 20/100\n",
      "12249/12249 - 11s - loss: 5.8570e-04 - 11s/epoch - 875us/step\n",
      "Epoch 21/100\n",
      "12249/12249 - 11s - loss: 5.8632e-04 - 11s/epoch - 877us/step\n",
      "Epoch 22/100\n",
      "12249/12249 - 11s - loss: 5.8420e-04 - 11s/epoch - 884us/step\n",
      "Epoch 23/100\n",
      "12249/12249 - 11s - loss: 5.8637e-04 - 11s/epoch - 883us/step\n",
      "Epoch 24/100\n",
      "12249/12249 - 11s - loss: 5.8491e-04 - 11s/epoch - 882us/step\n",
      "Epoch 25/100\n",
      "12249/12249 - 11s - loss: 5.8255e-04 - 11s/epoch - 896us/step\n",
      "Epoch 26/100\n",
      "12249/12249 - 11s - loss: 5.8794e-04 - 11s/epoch - 885us/step\n",
      "Epoch 27/100\n",
      "12249/12249 - 11s - loss: 5.8691e-04 - 11s/epoch - 880us/step\n",
      "Epoch 28/100\n",
      "12249/12249 - 11s - loss: 5.8793e-04 - 11s/epoch - 881us/step\n",
      "Epoch 29/100\n",
      "12249/12249 - 11s - loss: 5.8615e-04 - 11s/epoch - 897us/step\n",
      "Epoch 30/100\n",
      "12249/12249 - 11s - loss: 5.8461e-04 - 11s/epoch - 889us/step\n",
      "Epoch 31/100\n",
      "12249/12249 - 11s - loss: 5.8507e-04 - 11s/epoch - 882us/step\n",
      "Epoch 32/100\n",
      "12249/12249 - 11s - loss: 5.8415e-04 - 11s/epoch - 937us/step\n",
      "Epoch 33/100\n",
      "12249/12249 - 11s - loss: 5.8835e-04 - 11s/epoch - 881us/step\n",
      "Epoch 34/100\n",
      "12249/12249 - 11s - loss: 5.8221e-04 - 11s/epoch - 888us/step\n",
      "Epoch 35/100\n",
      "12249/12249 - 11s - loss: 5.8496e-04 - 11s/epoch - 890us/step\n",
      "Epoch 36/100\n",
      "12249/12249 - 11s - loss: 5.8753e-04 - 11s/epoch - 887us/step\n",
      "Epoch 37/100\n",
      "12249/12249 - 11s - loss: 5.8629e-04 - 11s/epoch - 873us/step\n",
      "Epoch 38/100\n",
      "12249/12249 - 11s - loss: 5.8627e-04 - 11s/epoch - 879us/step\n",
      "Epoch 39/100\n",
      "12249/12249 - 11s - loss: 5.8561e-04 - 11s/epoch - 882us/step\n",
      "Epoch 40/100\n",
      "12249/12249 - 11s - loss: 5.8607e-04 - 11s/epoch - 889us/step\n",
      "Epoch 41/100\n",
      "12249/12249 - 11s - loss: 5.8739e-04 - 11s/epoch - 880us/step\n",
      "Epoch 42/100\n",
      "12249/12249 - 11s - loss: 5.8350e-04 - 11s/epoch - 882us/step\n",
      "Epoch 43/100\n",
      "12249/12249 - 11s - loss: 5.8200e-04 - 11s/epoch - 883us/step\n",
      "Epoch 44/100\n",
      "12249/12249 - 11s - loss: 5.8275e-04 - 11s/epoch - 892us/step\n",
      "Epoch 45/100\n",
      "12249/12249 - 11s - loss: 5.8478e-04 - 11s/epoch - 883us/step\n",
      "Epoch 46/100\n",
      "12249/12249 - 11s - loss: 5.8381e-04 - 11s/epoch - 880us/step\n",
      "Epoch 47/100\n",
      "12249/12249 - 11s - loss: 5.8341e-04 - 11s/epoch - 880us/step\n",
      "Epoch 48/100\n",
      "12249/12249 - 11s - loss: 5.8405e-04 - 11s/epoch - 880us/step\n",
      "Epoch 49/100\n",
      "12249/12249 - 11s - loss: 5.8550e-04 - 11s/epoch - 883us/step\n",
      "Epoch 50/100\n",
      "12249/12249 - 11s - loss: 5.8378e-04 - 11s/epoch - 879us/step\n",
      "Epoch 51/100\n",
      "12249/12249 - 11s - loss: 5.7911e-04 - 11s/epoch - 890us/step\n",
      "Epoch 52/100\n",
      "12249/12249 - 11s - loss: 5.8239e-04 - 11s/epoch - 886us/step\n",
      "Epoch 53/100\n",
      "12249/12249 - 11s - loss: 5.8590e-04 - 11s/epoch - 882us/step\n",
      "Epoch 54/100\n",
      "12249/12249 - 11s - loss: 5.8378e-04 - 11s/epoch - 881us/step\n",
      "Epoch 55/100\n",
      "12249/12249 - 11s - loss: 5.8323e-04 - 11s/epoch - 886us/step\n",
      "Epoch 56/100\n",
      "12249/12249 - 11s - loss: 5.7849e-04 - 11s/epoch - 888us/step\n",
      "Epoch 57/100\n",
      "12249/12249 - 11s - loss: 5.8387e-04 - 11s/epoch - 895us/step\n",
      "Epoch 58/100\n",
      "12249/12249 - 11s - loss: 5.8175e-04 - 11s/epoch - 882us/step\n",
      "Epoch 59/100\n",
      "12249/12249 - 11s - loss: 5.8130e-04 - 11s/epoch - 882us/step\n",
      "Epoch 60/100\n",
      "12249/12249 - 11s - loss: 5.7922e-04 - 11s/epoch - 887us/step\n",
      "Epoch 61/100\n",
      "12249/12249 - 11s - loss: 5.8155e-04 - 11s/epoch - 882us/step\n",
      "Epoch 62/100\n",
      "12249/12249 - 11s - loss: 5.7983e-04 - 11s/epoch - 893us/step\n",
      "Epoch 63/100\n",
      "12249/12249 - 11s - loss: 5.8360e-04 - 11s/epoch - 886us/step\n",
      "Epoch 64/100\n",
      "12249/12249 - 11s - loss: 5.8009e-04 - 11s/epoch - 877us/step\n",
      "Epoch 65/100\n",
      "12249/12249 - 11s - loss: 5.7813e-04 - 11s/epoch - 879us/step\n",
      "Epoch 66/100\n",
      "12249/12249 - 11s - loss: 5.8063e-04 - 11s/epoch - 887us/step\n",
      "Epoch 67/100\n",
      "12249/12249 - 11s - loss: 5.7960e-04 - 11s/epoch - 875us/step\n",
      "Epoch 68/100\n",
      "12249/12249 - 12s - loss: 5.8207e-04 - 12s/epoch - 962us/step\n",
      "Epoch 69/100\n",
      "12249/12249 - 11s - loss: 5.7908e-04 - 11s/epoch - 914us/step\n",
      "Epoch 70/100\n",
      "12249/12249 - 12s - loss: 5.7878e-04 - 12s/epoch - 942us/step\n",
      "Epoch 71/100\n",
      "12249/12249 - 12s - loss: 5.8131e-04 - 12s/epoch - 987us/step\n",
      "Epoch 72/100\n",
      "12249/12249 - 12s - loss: 5.8062e-04 - 12s/epoch - 950us/step\n",
      "Epoch 73/100\n",
      "12249/12249 - 12s - loss: 5.7691e-04 - 12s/epoch - 990us/step\n",
      "Epoch 74/100\n",
      "12249/12249 - 11s - loss: 5.7779e-04 - 11s/epoch - 915us/step\n",
      "Epoch 75/100\n",
      "12249/12249 - 11s - loss: 5.7793e-04 - 11s/epoch - 916us/step\n",
      "Epoch 76/100\n",
      "12249/12249 - 11s - loss: 5.7692e-04 - 11s/epoch - 916us/step\n",
      "Epoch 77/100\n",
      "12249/12249 - 11s - loss: 5.7777e-04 - 11s/epoch - 914us/step\n",
      "Epoch 78/100\n",
      "12249/12249 - 12s - loss: 5.7739e-04 - 12s/epoch - 972us/step\n",
      "Epoch 79/100\n",
      "12249/12249 - 12s - loss: 5.7955e-04 - 12s/epoch - 978us/step\n",
      "Epoch 80/100\n",
      "12249/12249 - 12s - loss: 5.7436e-04 - 12s/epoch - 952us/step\n",
      "Epoch 81/100\n",
      "12249/12249 - 11s - loss: 5.7641e-04 - 11s/epoch - 917us/step\n",
      "Epoch 82/100\n",
      "12249/12249 - 11s - loss: 5.7960e-04 - 11s/epoch - 915us/step\n",
      "Epoch 83/100\n",
      "12249/12249 - 11s - loss: 5.7909e-04 - 11s/epoch - 933us/step\n",
      "Epoch 84/100\n",
      "12249/12249 - 12s - loss: 5.7677e-04 - 12s/epoch - 1ms/step\n",
      "Epoch 85/100\n",
      "12249/12249 - 11s - loss: 5.7460e-04 - 11s/epoch - 938us/step\n",
      "Epoch 86/100\n",
      "12249/12249 - 12s - loss: 5.7665e-04 - 12s/epoch - 952us/step\n",
      "Epoch 87/100\n",
      "12249/12249 - 12s - loss: 5.7893e-04 - 12s/epoch - 958us/step\n",
      "Epoch 88/100\n",
      "12249/12249 - 12s - loss: 5.7618e-04 - 12s/epoch - 999us/step\n",
      "Epoch 89/100\n",
      "12249/12249 - 12s - loss: 5.7636e-04 - 12s/epoch - 944us/step\n",
      "Epoch 90/100\n",
      "12249/12249 - 11s - loss: 5.7739e-04 - 11s/epoch - 922us/step\n",
      "Epoch 91/100\n",
      "12249/12249 - 11s - loss: 5.7462e-04 - 11s/epoch - 927us/step\n",
      "Epoch 92/100\n",
      "12249/12249 - 11s - loss: 5.7666e-04 - 11s/epoch - 916us/step\n",
      "Epoch 93/100\n",
      "12249/12249 - 12s - loss: 5.7707e-04 - 12s/epoch - 942us/step\n",
      "Epoch 94/100\n",
      "12249/12249 - 12s - loss: 5.7796e-04 - 12s/epoch - 943us/step\n",
      "Epoch 95/100\n",
      "12249/12249 - 11s - loss: 5.7743e-04 - 11s/epoch - 890us/step\n",
      "Epoch 96/100\n",
      "12249/12249 - 12s - loss: 5.7980e-04 - 12s/epoch - 940us/step\n",
      "Epoch 97/100\n",
      "12249/12249 - 11s - loss: 5.7766e-04 - 11s/epoch - 925us/step\n",
      "Epoch 98/100\n",
      "12249/12249 - 13s - loss: 5.7583e-04 - 13s/epoch - 1ms/step\n",
      "Epoch 99/100\n",
      "12249/12249 - 11s - loss: 5.7500e-04 - 11s/epoch - 897us/step\n",
      "Epoch 100/100\n",
      "12249/12249 - 11s - loss: 5.7656e-04 - 11s/epoch - 929us/step\n"
     ]
    },
    {
     "data": {
      "text/plain": [
       "<keras.callbacks.History at 0x7fa878123670>"
      ]
     },
     "execution_count": 22,
     "metadata": {},
     "output_type": "execute_result"
    }
   ],
   "source": [
    "# create and fit the LSTM network\n",
    "model = Sequential()\n",
    "model.add(LSTM(4, input_shape=(1, look_back)))\n",
    "model.add(Dense(1))\n",
    "model.compile(loss='mean_squared_error', optimizer='adam')\n",
    "model.fit(trainX, trainY, epochs=100, batch_size=1, verbose=2)"
   ]
  },
  {
   "cell_type": "code",
   "execution_count": 23,
   "id": "aware-platinum",
   "metadata": {},
   "outputs": [
    {
     "name": "stdout",
     "output_type": "stream",
     "text": [
      "Train Score: 11.37 RMSE\n",
      "Test Score: 11.92 RMSE\n"
     ]
    }
   ],
   "source": [
    "# make predictions\n",
    "trainPredict = model.predict(trainX)\n",
    "testPredict = model.predict(testX)\n",
    "# invert predictions\n",
    "trainPredict = scaler.inverse_transform(trainPredict)\n",
    "trainY = scaler.inverse_transform([trainY])\n",
    "testPredict = scaler.inverse_transform(testPredict)\n",
    "testY = scaler.inverse_transform([testY])\n",
    "# calculate root mean squared error\n",
    "trainScore = math.sqrt(mean_squared_error(trainY[0], trainPredict[:,0]))\n",
    "print('Train Score: %.2f RMSE' % (trainScore))\n",
    "testScore = math.sqrt(mean_squared_error(testY[0], testPredict[:,0]))\n",
    "print('Test Score: %.2f RMSE' % (testScore))"
   ]
  },
  {
   "cell_type": "code",
   "execution_count": 24,
   "id": "ceramic-robert",
   "metadata": {},
   "outputs": [
    {
     "data": {
      "image/png": "[encoded data removed]",
      "text/plain": [
       "<Figure size 432x288 with 1 Axes>"
      ]
     },
     "metadata": {
      "needs_background": "light"
     },
     "output_type": "display_data"
    }
   ],
   "source": [
    "# shift train predictions for plotting\n",
    "trainPredictPlot = numpy.empty_like(dataset)\n",
    "trainPredictPlot[:, :] = numpy.nan\n",
    "trainPredictPlot[look_back:len(trainPredict)+look_back, :] = trainPredict\n",
    "# shift test predictions for plotting\n",
    "testPredictPlot = numpy.empty_like(dataset)\n",
    "testPredictPlot[:, :] = numpy.nan\n",
    "testPredictPlot[len(trainPredict)+(look_back*2)+1:len(dataset)-1, :] = testPredict\n",
    "# plot baseline and predictions\n",
    "plt.plot(scaler.inverse_transform(dataset))\n",
    "plt.plot(trainPredictPlot)\n",
    "plt.plot(testPredictPlot)\n",
    "plt.show()"
   ]
  },
  {
   "cell_type": "code",
   "execution_count": null,
   "id": "specified-emphasis",
   "metadata": {},
   "outputs": [],
   "source": []
  }
 ],
 "metadata": {
  "kernelspec": {
   "display_name": "Python 3",
   "language": "python",
   "name": "python3"
  },
  "language_info": {
   "codemirror_mode": {
    "name": "ipython",
    "version": 3
   },
   "file_extension": ".py",
   "mimetype": "text/x-python",
   "name": "python",
   "nbconvert_exporter": "python",
   "pygments_lexer": "ipython3",
   "version": "3.8.10"
  }
 },
 "nbformat": 4,
 "nbformat_minor": 5
}
