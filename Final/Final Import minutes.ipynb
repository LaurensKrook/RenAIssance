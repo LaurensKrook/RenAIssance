{
 "cells": [
  {
   "cell_type": "code",
   "execution_count": 1,
   "metadata": {},
   "outputs": [],
   "source": [
    "# Push, pull, and edit test: Alihan Ince"
   ]
  },
  {
   "cell_type": "code",
   "execution_count": 1,
   "metadata": {},
   "outputs": [],
   "source": [
    "import pandas as pd\n",
    "import numpy as np\n",
    "from keras import Sequential\n",
    "from keras.layers import SimpleRNN, Dense, LSTM\n",
    "from sklearn.model_selection import train_test_split\n",
    "from sklearn.metrics import mean_squared_error\n",
    "from math import sqrt\n",
    "import matplotlib.pyplot as plt"
   ]
  },
  {
   "cell_type": "code",
   "execution_count": 2,
   "metadata": {},
   "outputs": [
    {
     "data": {
      "text/html": [
       "<div>\n",
       "<style scoped>\n",
       "    .dataframe tbody tr th:only-of-type {\n",
       "        vertical-align: middle;\n",
       "    }\n",
       "\n",
       "    .dataframe tbody tr th {\n",
       "        vertical-align: top;\n",
       "    }\n",
       "\n",
       "    .dataframe thead th {\n",
       "        text-align: right;\n",
       "    }\n",
       "</style>\n",
       "<table border=\"1\" class=\"dataframe\">\n",
       "  <thead>\n",
       "    <tr style=\"text-align: right;\">\n",
       "      <th></th>\n",
       "      <th>house</th>\n",
       "      <th>EXPORT_KW</th>\n",
       "      <th>IMPORT_KW</th>\n",
       "      <th>PV_KW</th>\n",
       "      <th>TOTAL_KW</th>\n",
       "      <th>UNC_KW</th>\n",
       "    </tr>\n",
       "    <tr>\n",
       "      <th>timestamp</th>\n",
       "      <th></th>\n",
       "      <th></th>\n",
       "      <th></th>\n",
       "      <th></th>\n",
       "      <th></th>\n",
       "      <th></th>\n",
       "    </tr>\n",
       "  </thead>\n",
       "  <tbody>\n",
       "    <tr>\n",
       "      <th>2019-04-01 00:00:00+02:00</th>\n",
       "      <td>House64</td>\n",
       "      <td>0.0</td>\n",
       "      <td>0.24</td>\n",
       "      <td>0.0</td>\n",
       "      <td>0.24</td>\n",
       "      <td>0.24</td>\n",
       "    </tr>\n",
       "    <tr>\n",
       "      <th>2019-04-01 00:01:00+02:00</th>\n",
       "      <td>House64</td>\n",
       "      <td>0.0</td>\n",
       "      <td>0.30</td>\n",
       "      <td>0.0</td>\n",
       "      <td>0.30</td>\n",
       "      <td>0.30</td>\n",
       "    </tr>\n",
       "    <tr>\n",
       "      <th>2019-04-01 00:02:00+02:00</th>\n",
       "      <td>House64</td>\n",
       "      <td>0.0</td>\n",
       "      <td>0.24</td>\n",
       "      <td>0.0</td>\n",
       "      <td>0.24</td>\n",
       "      <td>0.24</td>\n",
       "    </tr>\n",
       "    <tr>\n",
       "      <th>2019-04-01 00:03:00+02:00</th>\n",
       "      <td>House64</td>\n",
       "      <td>0.0</td>\n",
       "      <td>0.24</td>\n",
       "      <td>0.0</td>\n",
       "      <td>0.24</td>\n",
       "      <td>0.24</td>\n",
       "    </tr>\n",
       "    <tr>\n",
       "      <th>2019-04-01 00:04:00+02:00</th>\n",
       "      <td>House64</td>\n",
       "      <td>0.0</td>\n",
       "      <td>0.30</td>\n",
       "      <td>0.0</td>\n",
       "      <td>0.30</td>\n",
       "      <td>0.30</td>\n",
       "    </tr>\n",
       "    <tr>\n",
       "      <th>...</th>\n",
       "      <td>...</td>\n",
       "      <td>...</td>\n",
       "      <td>...</td>\n",
       "      <td>...</td>\n",
       "      <td>...</td>\n",
       "      <td>...</td>\n",
       "    </tr>\n",
       "    <tr>\n",
       "      <th>2019-04-08 23:55:00+02:00</th>\n",
       "      <td>House64</td>\n",
       "      <td>0.0</td>\n",
       "      <td>0.30</td>\n",
       "      <td>0.0</td>\n",
       "      <td>0.30</td>\n",
       "      <td>0.30</td>\n",
       "    </tr>\n",
       "    <tr>\n",
       "      <th>2019-04-08 23:56:00+02:00</th>\n",
       "      <td>House64</td>\n",
       "      <td>0.0</td>\n",
       "      <td>0.30</td>\n",
       "      <td>0.0</td>\n",
       "      <td>0.30</td>\n",
       "      <td>0.30</td>\n",
       "    </tr>\n",
       "    <tr>\n",
       "      <th>2019-04-08 23:57:00+02:00</th>\n",
       "      <td>House64</td>\n",
       "      <td>0.0</td>\n",
       "      <td>0.24</td>\n",
       "      <td>0.0</td>\n",
       "      <td>0.24</td>\n",
       "      <td>0.24</td>\n",
       "    </tr>\n",
       "    <tr>\n",
       "      <th>2019-04-08 23:58:00+02:00</th>\n",
       "      <td>House64</td>\n",
       "      <td>0.0</td>\n",
       "      <td>0.24</td>\n",
       "      <td>0.0</td>\n",
       "      <td>0.24</td>\n",
       "      <td>0.24</td>\n",
       "    </tr>\n",
       "    <tr>\n",
       "      <th>2019-04-08 23:59:00+02:00</th>\n",
       "      <td>House64</td>\n",
       "      <td>0.0</td>\n",
       "      <td>0.36</td>\n",
       "      <td>0.0</td>\n",
       "      <td>0.36</td>\n",
       "      <td>0.36</td>\n",
       "    </tr>\n",
       "  </tbody>\n",
       "</table>\n",
       "<p>11520 rows × 6 columns</p>\n",
       "</div>"
      ],
      "text/plain": [
       "                             house  EXPORT_KW  IMPORT_KW  PV_KW  TOTAL_KW  \\\n",
       "timestamp                                                                   \n",
       "2019-04-01 00:00:00+02:00  House64        0.0       0.24    0.0      0.24   \n",
       "2019-04-01 00:01:00+02:00  House64        0.0       0.30    0.0      0.30   \n",
       "2019-04-01 00:02:00+02:00  House64        0.0       0.24    0.0      0.24   \n",
       "2019-04-01 00:03:00+02:00  House64        0.0       0.24    0.0      0.24   \n",
       "2019-04-01 00:04:00+02:00  House64        0.0       0.30    0.0      0.30   \n",
       "...                            ...        ...        ...    ...       ...   \n",
       "2019-04-08 23:55:00+02:00  House64        0.0       0.30    0.0      0.30   \n",
       "2019-04-08 23:56:00+02:00  House64        0.0       0.30    0.0      0.30   \n",
       "2019-04-08 23:57:00+02:00  House64        0.0       0.24    0.0      0.24   \n",
       "2019-04-08 23:58:00+02:00  House64        0.0       0.24    0.0      0.24   \n",
       "2019-04-08 23:59:00+02:00  House64        0.0       0.36    0.0      0.36   \n",
       "\n",
       "                           UNC_KW  \n",
       "timestamp                          \n",
       "2019-04-01 00:00:00+02:00    0.24  \n",
       "2019-04-01 00:01:00+02:00    0.30  \n",
       "2019-04-01 00:02:00+02:00    0.24  \n",
       "2019-04-01 00:03:00+02:00    0.24  \n",
       "2019-04-01 00:04:00+02:00    0.30  \n",
       "...                           ...  \n",
       "2019-04-08 23:55:00+02:00    0.30  \n",
       "2019-04-08 23:56:00+02:00    0.30  \n",
       "2019-04-08 23:57:00+02:00    0.24  \n",
       "2019-04-08 23:58:00+02:00    0.24  \n",
       "2019-04-08 23:59:00+02:00    0.36  \n",
       "\n",
       "[11520 rows x 6 columns]"
      ]
     },
     "execution_count": 2,
     "metadata": {},
     "output_type": "execute_result"
    }
   ],
   "source": [
    "df = pd.read_csv(r'/home/alihan/Desktop/Leren & Beslissen/General/Data(LLE)/Data/Houses/Houses58-75/House64-1m.csv')\n",
    "df.set_index('timestamp', inplace = True)\n",
    "df.index= pd.to_datetime(df.index)\n",
    "#df = df.resample('5T').mean()\n",
    "df = df.loc['2019-04-01':'2019-04-08']\n",
    "df\n",
    "# df['timestamp'] = pd.to_datetime(df.timestamp, format='%Y-%m-%d %H:%M:%S')\n",
    "# df['Date'] = df['timestamp'].dt.date\n",
    "# df[\"Date\"] = df['Date'].astype(str)\n",
    "# df = df.set_index('Date')\n",
    "# df = df.loc['2019-04-01':'2019-04-08']\n",
    "# df"
   ]
  },
  {
   "cell_type": "code",
   "execution_count": 9,
   "metadata": {},
   "outputs": [],
   "source": [
    "# import_kw = df['IMPORT_KW']\n",
    "# train_test_balance = len(df)//(8)\n",
    "# train = list(import_kw)[train_test_balance:]\n",
    "# test = list(import_kw)[:train_test_balance]"
   ]
  },
  {
   "cell_type": "code",
   "execution_count": 10,
   "metadata": {},
   "outputs": [],
   "source": [
    "# import_kw = df['IMPORT_KW']\n",
    "# train_test_balance = int(len(import_kw) * 0.832)\n",
    "# train = list(import_kw)[:train_test_balance]\n",
    "# test = list(import_kw)[train_test_balance:]"
   ]
  },
  {
   "cell_type": "code",
   "execution_count": 11,
   "metadata": {},
   "outputs": [],
   "source": [
    "import_kw = df['IMPORT_KW']\n",
    "len_test = 1540\n",
    "train = list(import_kw)[len_test:]\n",
    "test = list(import_kw)[:len_test]"
   ]
  },
  {
   "cell_type": "code",
   "execution_count": 12,
   "metadata": {},
   "outputs": [
    {
     "name": "stdout",
     "output_type": "stream",
     "text": [
      "9980\n",
      "1540\n"
     ]
    }
   ],
   "source": [
    "print(len(train))\n",
    "print(len(test))"
   ]
  },
  {
   "cell_type": "markdown",
   "metadata": {},
   "source": [
    "Training"
   ]
  },
  {
   "cell_type": "code",
   "execution_count": 13,
   "metadata": {},
   "outputs": [],
   "source": [
    "windowSize, X_train, y_train = 100, [], []\n",
    "for index in range(len(train)-windowSize):\n",
    "    X_train.append(train[index:index+windowSize])\n",
    "    y_train.append(train[index+windowSize])"
   ]
  },
  {
   "cell_type": "code",
   "execution_count": 14,
   "metadata": {},
   "outputs": [],
   "source": [
    "X_train, y_train = np.array(X_train), np.array(y_train)\n",
    "X_train = X_train.reshape((len(X_train), 100,1))"
   ]
  },
  {
   "cell_type": "markdown",
   "metadata": {},
   "source": [
    "Model"
   ]
  },
  {
   "cell_type": "code",
   "execution_count": 15,
   "metadata": {},
   "outputs": [
    {
     "name": "stdout",
     "output_type": "stream",
     "text": [
      "Epoch 1/5\n",
      "309/309 [==============================] - 41s 121ms/step - loss: 0.0533 - mae: 0.1105\n",
      "Epoch 2/5\n",
      "309/309 [==============================] - 33s 107ms/step - loss: 0.0390 - mae: 0.0947\n",
      "Epoch 3/5\n",
      "309/309 [==============================] - 34s 112ms/step - loss: 0.0375 - mae: 0.0903\n",
      "Epoch 4/5\n",
      "309/309 [==============================] - 41s 132ms/step - loss: 0.0366 - mae: 0.0882\n",
      "Epoch 5/5\n",
      "309/309 [==============================] - 42s 136ms/step - loss: 0.0362 - mae: 0.0879\n"
     ]
    }
   ],
   "source": [
    "model = Sequential()\n",
    "model.add(SimpleRNN(64, input_shape=(100,1), return_sequences=True))\n",
    "model.add(SimpleRNN(32, return_sequences=True))\n",
    "model.add(SimpleRNN(16))\n",
    "model.add(Dense(8, activation='tanh'))\n",
    "model.add(Dense(1, activation='linear'))\n",
    "\n",
    "model.compile(loss='mse', optimizer='Adam', metrics=['mae'])\n",
    "history = model.fit(X_train, y_train, epochs=5)"
   ]
  },
  {
   "cell_type": "code",
   "execution_count": 20,
   "metadata": {},
   "outputs": [
    {
     "ename": "KeyError",
     "evalue": "'loss'",
     "output_type": "error",
     "traceback": [
      "\u001b[0;31m---------------------------------------------------------------------------\u001b[0m",
      "\u001b[0;31mKeyError\u001b[0m                                  Traceback (most recent call last)",
      "\u001b[0;32m<ipython-input-20-8c2dfcd469e5>\u001b[0m in \u001b[0;36m<module>\u001b[0;34m\u001b[0m\n\u001b[0;32m----> 1\u001b[0;31m \u001b[0mlosses\u001b[0m \u001b[0;34m=\u001b[0m \u001b[0mmodel\u001b[0m\u001b[0;34m.\u001b[0m\u001b[0mhistory\u001b[0m\u001b[0;34m.\u001b[0m\u001b[0mhistory\u001b[0m\u001b[0;34m[\u001b[0m\u001b[0;34m'loss'\u001b[0m\u001b[0;34m]\u001b[0m\u001b[0;34m\u001b[0m\u001b[0;34m\u001b[0m\u001b[0m\n\u001b[0m\u001b[1;32m      2\u001b[0m \u001b[0mplt\u001b[0m\u001b[0;34m.\u001b[0m\u001b[0mfigure\u001b[0m\u001b[0;34m(\u001b[0m\u001b[0mfigsize\u001b[0m\u001b[0;34m=\u001b[0m\u001b[0;34m(\u001b[0m\u001b[0;36m12\u001b[0m\u001b[0;34m,\u001b[0m\u001b[0;36m4\u001b[0m\u001b[0;34m)\u001b[0m\u001b[0;34m)\u001b[0m\u001b[0;34m\u001b[0m\u001b[0;34m\u001b[0m\u001b[0m\n\u001b[1;32m      3\u001b[0m \u001b[0mplt\u001b[0m\u001b[0;34m.\u001b[0m\u001b[0mxlabel\u001b[0m\u001b[0;34m(\u001b[0m\u001b[0;34m\"Epochs\"\u001b[0m\u001b[0;34m)\u001b[0m\u001b[0;34m\u001b[0m\u001b[0;34m\u001b[0m\u001b[0m\n\u001b[1;32m      4\u001b[0m \u001b[0mplt\u001b[0m\u001b[0;34m.\u001b[0m\u001b[0mylabel\u001b[0m\u001b[0;34m(\u001b[0m\u001b[0;34m\"Loss\"\u001b[0m\u001b[0;34m)\u001b[0m\u001b[0;34m\u001b[0m\u001b[0;34m\u001b[0m\u001b[0m\n\u001b[1;32m      5\u001b[0m \u001b[0mplt\u001b[0m\u001b[0;34m.\u001b[0m\u001b[0mxticks\u001b[0m\u001b[0;34m(\u001b[0m\u001b[0mnp\u001b[0m\u001b[0;34m.\u001b[0m\u001b[0marange\u001b[0m\u001b[0;34m(\u001b[0m\u001b[0;36m0\u001b[0m\u001b[0;34m,\u001b[0m\u001b[0;36m21\u001b[0m\u001b[0;34m,\u001b[0m\u001b[0;36m1\u001b[0m\u001b[0;34m)\u001b[0m\u001b[0;34m)\u001b[0m\u001b[0;34m\u001b[0m\u001b[0;34m\u001b[0m\u001b[0m\n",
      "\u001b[0;31mKeyError\u001b[0m: 'loss'"
     ]
    }
   ],
   "source": [
    "losses = model.history.history['loss']\n",
    "plt.figure(figsize=(12,4))\n",
    "plt.xlabel(\"Epochs\")\n",
    "plt.ylabel(\"Loss\")\n",
    "plt.xticks(np.arange(0,21,1))\n",
    "plt.plot(range(len(losses)),losses)"
   ]
  },
  {
   "cell_type": "code",
   "execution_count": 21,
   "metadata": {},
   "outputs": [],
   "source": [
    "y_pred_model = model.predict(X_train)"
   ]
  },
  {
   "cell_type": "code",
   "execution_count": 22,
   "metadata": {},
   "outputs": [
    {
     "name": "stdout",
     "output_type": "stream",
     "text": [
      "0.19654854991045928\n"
     ]
    }
   ],
   "source": [
    "rmse_train = sqrt(mean_squared_error(y_train, y_pred_model))\n",
    "print(rmse_train)"
   ]
  },
  {
   "cell_type": "markdown",
   "metadata": {},
   "source": [
    "Test"
   ]
  },
  {
   "cell_type": "code",
   "execution_count": 23,
   "metadata": {},
   "outputs": [],
   "source": [
    "windowSize, X_test, y_test = 100, [], []\n",
    "for index in range(len(test)-windowSize):\n",
    "    X_test.append(test[index:index+windowSize])\n",
    "    y_test.append(test[index+windowSize])"
   ]
  },
  {
   "cell_type": "code",
   "execution_count": 24,
   "metadata": {},
   "outputs": [],
   "source": [
    "X_test, y_test = np.array(X_test), np.array(y_test)\n",
    "X_test = X_test.reshape((len(X_test), 100,1))"
   ]
  },
  {
   "cell_type": "code",
   "execution_count": 25,
   "metadata": {},
   "outputs": [],
   "source": [
    "y_test_pred_model = model.predict(X_test)"
   ]
  },
  {
   "cell_type": "code",
   "execution_count": 26,
   "metadata": {},
   "outputs": [
    {
     "name": "stdout",
     "output_type": "stream",
     "text": [
      "0.22021290792253223\n"
     ]
    }
   ],
   "source": [
    "rmse_test = sqrt(mean_squared_error(y_test, y_test_pred_model))\n",
    "print(rmse_test)"
   ]
  },
  {
   "cell_type": "code",
   "execution_count": 27,
   "metadata": {},
   "outputs": [
    {
     "data": {
      "image/png": "[encoded data removed]",
      "text/plain": [
       "<Figure size 1200x480 with 1 Axes>"
      ]
     },
     "metadata": {
      "needs_background": "light"
     },
     "output_type": "display_data"
    }
   ],
   "source": [
    "def plot_result(y_train, y_test, y_pred_model, y_test_pred_model):\n",
    "    result = np.append(y_train, y_test_pred_model)\n",
    "#     predictions = np.append(y_pred_model, y_test_pred_model)\n",
    "    rows = len(result)\n",
    "    plt.figure(figsize=(15,6), dpi=80)\n",
    "    plt.plot(range(rows), result)\n",
    "#     plt.plot(range(rows), y_test_pred_model)\n",
    "    plt.axvline(x=len(y_train), color='r')\n",
    "#     plt.legend(['Actual', 'Prediction'])\n",
    "    plt.xlabel('Time')\n",
    "    plt.ylabel('IMPORT_KW')\n",
    "    plt.title('Actual vs. Predictions')\n",
    "\n",
    "plot_result(y_train, y_test, y_pred_model, y_test_pred_model)"
   ]
  },
  {
   "cell_type": "code",
   "execution_count": 28,
   "metadata": {},
   "outputs": [
    {
     "data": {
      "image/png": "[encoded data removed]",
      "text/plain": [
       "<Figure size 1200x480 with 1 Axes>"
      ]
     },
     "metadata": {
      "needs_background": "light"
     },
     "output_type": "display_data"
    }
   ],
   "source": [
    "def plot_result(y_train, y_test, y_pred_model, y_test_pred_model):\n",
    "    actual = np.append(y_train, y_test)\n",
    "    predictions = np.append(y_pred_model, y_test_pred_model)\n",
    "    rows = len(actual)\n",
    "    plt.figure(figsize=(15,6), dpi=80)\n",
    "    plt.plot(range(rows), actual)\n",
    "    plt.plot(range(rows), predictions)\n",
    "    plt.axvline(x=len(y_train), color='r')\n",
    "    plt.legend(['Actual', 'Prediction'])\n",
    "    plt.xlabel('Time')\n",
    "    plt.ylabel('IMPORT_KW')\n",
    "    plt.title('Actual vs. Predictions')\n",
    "\n",
    "plot_result(y_train, y_test, y_pred_model, y_test_pred_model)"
   ]
  },
  {
   "cell_type": "code",
   "execution_count": 29,
   "metadata": {},
   "outputs": [
    {
     "name": "stdout",
     "output_type": "stream",
     "text": [
      "0.19654854991045928\n",
      "0.22021290792253223\n"
     ]
    }
   ],
   "source": [
    "print(rmse_train)\n",
    "print(rmse_test)"
   ]
  },
  {
   "cell_type": "markdown",
   "metadata": {},
   "source": [
    "**Data to CSV**"
   ]
  },
  {
   "cell_type": "code",
   "execution_count": 30,
   "metadata": {},
   "outputs": [],
   "source": [
    "train = import_kw[len_test:]\n",
    "test = import_kw[:len_test]"
   ]
  },
  {
   "cell_type": "code",
   "execution_count": 31,
   "metadata": {},
   "outputs": [
    {
     "data": {
      "text/html": [
       "<div>\n",
       "<style scoped>\n",
       "    .dataframe tbody tr th:only-of-type {\n",
       "        vertical-align: middle;\n",
       "    }\n",
       "\n",
       "    .dataframe tbody tr th {\n",
       "        vertical-align: top;\n",
       "    }\n",
       "\n",
       "    .dataframe thead th {\n",
       "        text-align: right;\n",
       "    }\n",
       "</style>\n",
       "<table border=\"1\" class=\"dataframe\">\n",
       "  <thead>\n",
       "    <tr style=\"text-align: right;\">\n",
       "      <th></th>\n",
       "      <th>RNN_prediction_IMPORT_KW</th>\n",
       "    </tr>\n",
       "    <tr>\n",
       "      <th>timestamp</th>\n",
       "      <th></th>\n",
       "    </tr>\n",
       "  </thead>\n",
       "  <tbody>\n",
       "    <tr>\n",
       "      <th>2019-04-01 00:00:00+02:00</th>\n",
       "      <td>0.221434</td>\n",
       "    </tr>\n",
       "    <tr>\n",
       "      <th>2019-04-01 00:05:00+02:00</th>\n",
       "      <td>0.173385</td>\n",
       "    </tr>\n",
       "    <tr>\n",
       "      <th>2019-04-01 00:10:00+02:00</th>\n",
       "      <td>0.182678</td>\n",
       "    </tr>\n",
       "    <tr>\n",
       "      <th>2019-04-01 00:15:00+02:00</th>\n",
       "      <td>0.212764</td>\n",
       "    </tr>\n",
       "    <tr>\n",
       "      <th>2019-04-01 00:20:00+02:00</th>\n",
       "      <td>0.217799</td>\n",
       "    </tr>\n",
       "    <tr>\n",
       "      <th>...</th>\n",
       "      <td>...</td>\n",
       "    </tr>\n",
       "    <tr>\n",
       "      <th>2019-04-05 23:35:00+02:00</th>\n",
       "      <td>0.334358</td>\n",
       "    </tr>\n",
       "    <tr>\n",
       "      <th>2019-04-05 23:40:00+02:00</th>\n",
       "      <td>0.217728</td>\n",
       "    </tr>\n",
       "    <tr>\n",
       "      <th>2019-04-05 23:45:00+02:00</th>\n",
       "      <td>0.274159</td>\n",
       "    </tr>\n",
       "    <tr>\n",
       "      <th>2019-04-05 23:50:00+02:00</th>\n",
       "      <td>0.373867</td>\n",
       "    </tr>\n",
       "    <tr>\n",
       "      <th>2019-04-05 23:55:00+02:00</th>\n",
       "      <td>0.323062</td>\n",
       "    </tr>\n",
       "  </tbody>\n",
       "</table>\n",
       "<p>1440 rows × 1 columns</p>\n",
       "</div>"
      ],
      "text/plain": [
       "                           RNN_prediction_IMPORT_KW\n",
       "timestamp                                          \n",
       "2019-04-01 00:00:00+02:00                  0.221434\n",
       "2019-04-01 00:05:00+02:00                  0.173385\n",
       "2019-04-01 00:10:00+02:00                  0.182678\n",
       "2019-04-01 00:15:00+02:00                  0.212764\n",
       "2019-04-01 00:20:00+02:00                  0.217799\n",
       "...                                             ...\n",
       "2019-04-05 23:35:00+02:00                  0.334358\n",
       "2019-04-05 23:40:00+02:00                  0.217728\n",
       "2019-04-05 23:45:00+02:00                  0.274159\n",
       "2019-04-05 23:50:00+02:00                  0.373867\n",
       "2019-04-05 23:55:00+02:00                  0.323062\n",
       "\n",
       "[1440 rows x 1 columns]"
      ]
     },
     "execution_count": 31,
     "metadata": {},
     "output_type": "execute_result"
    }
   ],
   "source": [
    "data = y_test_pred_model\n",
    "df_prediction = pd.DataFrame(data, columns = ['RNN_prediction_IMPORT_KW'])\n",
    "df_prediction['timestamp'] = pd.date_range(start=test.index[0], periods=len(df_prediction), freq='5T')\n",
    "df_prediction.set_index('timestamp', inplace = True)\n",
    "df_prediction.index= pd.to_datetime(df_prediction.index)\n",
    "df_prediction"
   ]
  },
  {
   "cell_type": "code",
   "execution_count": 32,
   "metadata": {},
   "outputs": [
    {
     "data": {
      "text/plain": [
       "<AxesSubplot:xlabel='timestamp'>"
      ]
     },
     "execution_count": 32,
     "metadata": {},
     "output_type": "execute_result"
    },
    {
     "data": {
      "image/png": "[encoded data removed]",
      "text/plain": [
       "<Figure size 432x288 with 1 Axes>"
      ]
     },
     "metadata": {
      "needs_background": "light"
     },
     "output_type": "display_data"
    }
   ],
   "source": [
    "df_prediction.plot()"
   ]
  },
  {
   "cell_type": "code",
   "execution_count": 34,
   "metadata": {},
   "outputs": [],
   "source": [
    "df_prediction.to_csv('IMPORT_KW_predictions.csv')"
   ]
  },
  {
   "cell_type": "code",
   "execution_count": 35,
   "metadata": {},
   "outputs": [
    {
     "data": {
      "text/html": [
       "<div>\n",
       "<style scoped>\n",
       "    .dataframe tbody tr th:only-of-type {\n",
       "        vertical-align: middle;\n",
       "    }\n",
       "\n",
       "    .dataframe tbody tr th {\n",
       "        vertical-align: top;\n",
       "    }\n",
       "\n",
       "    .dataframe thead th {\n",
       "        text-align: right;\n",
       "    }\n",
       "</style>\n",
       "<table border=\"1\" class=\"dataframe\">\n",
       "  <thead>\n",
       "    <tr style=\"text-align: right;\">\n",
       "      <th></th>\n",
       "      <th>timestamp</th>\n",
       "      <th>RNN_prediction_IMPORT_KW</th>\n",
       "    </tr>\n",
       "  </thead>\n",
       "  <tbody>\n",
       "    <tr>\n",
       "      <th>0</th>\n",
       "      <td>2019-04-01 00:00:00+02:00</td>\n",
       "      <td>0.221434</td>\n",
       "    </tr>\n",
       "    <tr>\n",
       "      <th>1</th>\n",
       "      <td>2019-04-01 00:05:00+02:00</td>\n",
       "      <td>0.173385</td>\n",
       "    </tr>\n",
       "    <tr>\n",
       "      <th>2</th>\n",
       "      <td>2019-04-01 00:10:00+02:00</td>\n",
       "      <td>0.182678</td>\n",
       "    </tr>\n",
       "    <tr>\n",
       "      <th>3</th>\n",
       "      <td>2019-04-01 00:15:00+02:00</td>\n",
       "      <td>0.212764</td>\n",
       "    </tr>\n",
       "    <tr>\n",
       "      <th>4</th>\n",
       "      <td>2019-04-01 00:20:00+02:00</td>\n",
       "      <td>0.217799</td>\n",
       "    </tr>\n",
       "    <tr>\n",
       "      <th>...</th>\n",
       "      <td>...</td>\n",
       "      <td>...</td>\n",
       "    </tr>\n",
       "    <tr>\n",
       "      <th>1435</th>\n",
       "      <td>2019-04-05 23:35:00+02:00</td>\n",
       "      <td>0.334358</td>\n",
       "    </tr>\n",
       "    <tr>\n",
       "      <th>1436</th>\n",
       "      <td>2019-04-05 23:40:00+02:00</td>\n",
       "      <td>0.217728</td>\n",
       "    </tr>\n",
       "    <tr>\n",
       "      <th>1437</th>\n",
       "      <td>2019-04-05 23:45:00+02:00</td>\n",
       "      <td>0.274159</td>\n",
       "    </tr>\n",
       "    <tr>\n",
       "      <th>1438</th>\n",
       "      <td>2019-04-05 23:50:00+02:00</td>\n",
       "      <td>0.373867</td>\n",
       "    </tr>\n",
       "    <tr>\n",
       "      <th>1439</th>\n",
       "      <td>2019-04-05 23:55:00+02:00</td>\n",
       "      <td>0.323062</td>\n",
       "    </tr>\n",
       "  </tbody>\n",
       "</table>\n",
       "<p>1440 rows × 2 columns</p>\n",
       "</div>"
      ],
      "text/plain": [
       "                      timestamp  RNN_prediction_IMPORT_KW\n",
       "0     2019-04-01 00:00:00+02:00                  0.221434\n",
       "1     2019-04-01 00:05:00+02:00                  0.173385\n",
       "2     2019-04-01 00:10:00+02:00                  0.182678\n",
       "3     2019-04-01 00:15:00+02:00                  0.212764\n",
       "4     2019-04-01 00:20:00+02:00                  0.217799\n",
       "...                         ...                       ...\n",
       "1435  2019-04-05 23:35:00+02:00                  0.334358\n",
       "1436  2019-04-05 23:40:00+02:00                  0.217728\n",
       "1437  2019-04-05 23:45:00+02:00                  0.274159\n",
       "1438  2019-04-05 23:50:00+02:00                  0.373867\n",
       "1439  2019-04-05 23:55:00+02:00                  0.323062\n",
       "\n",
       "[1440 rows x 2 columns]"
      ]
     },
     "execution_count": 35,
     "metadata": {},
     "output_type": "execute_result"
    }
   ],
   "source": [
    "Import_prediction_24hours = pd.read_csv(r'IMPORT_KW_predictions.csv')\n",
    "Import_prediction_24hours"
   ]
  },
  {
   "cell_type": "code",
   "execution_count": null,
   "metadata": {},
   "outputs": [],
   "source": []
  }
 ],
 "metadata": {
  "interpreter": {
   "hash": "aee8b7b246df8f9039afb4144a1f6fd8d2ca17a180786b69acc140d282b71a49"
  },
  "kernelspec": {
   "display_name": "Python 3.8.0 64-bit",
   "language": "python",
   "name": "python3"
  },
  "language_info": {
   "codemirror_mode": {
    "name": "ipython",
    "version": 3
   },
   "file_extension": ".py",
   "mimetype": "text/x-python",
   "name": "python",
   "nbconvert_exporter": "python",
   "pygments_lexer": "ipython3",
   "version": "3.8.10"
  },
  "orig_nbformat": 4
 },
 "nbformat": 4,
 "nbformat_minor": 2
}
